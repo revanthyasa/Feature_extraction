{
  "cells": [
    {
      "cell_type": "code",
      "execution_count": null,
      "metadata": {
        "colab": {
          "base_uri": "https://localhost:8080/"
        },
        "collapsed": true,
        "id": "2mHQkFk2q25w",
        "outputId": "a756e2da-95ab-4e57-8790-f2cfd061838a"
      },
      "outputs": [],
      "source": [
        "!pip install easyocr\n",
        "!pip install opencv-python"
      ]
    },
    {
      "cell_type": "code",
      "execution_count": null,
      "metadata": {
        "id": "11wBFzSNqyys"
      },
      "outputs": [],
      "source": [
        "import easyocr\n",
        "import requests\n",
        "import cv2\n",
        "import re\n",
        "import requests\n",
        "from io import BytesIO\n",
        "from PIL import Image\n",
        "import numpy as np\n",
        "import pandas as pd\n",
        "'''\n",
        "  easyocr -> Used to extract text from images\n",
        "  requests -> HTTP library to fect images from the URLs\n",
        "  cv2 ->  for grayscale conversion(pre-processing of image)\n",
        "  re -> used for string matching to extract specific information from the extracted text.\n",
        "  BytesIO -> to handle image data fetched from urls\n",
        "  PIL -> used for image processing\n",
        "  numpy -> for array operations on image data\n",
        "  pandas -> to handle input data from excel files and to export the output\n",
        "'''"
      ]
    },
    {
      "cell_type": "code",
      "execution_count": null,
      "metadata": {
        "colab": {
          "base_uri": "https://localhost:8080/"
        },
        "id": "tRzugGPuq6VZ",
        "outputId": "58dd6e52-7b85-4f86-f0b4-d9f371c4036b"
      },
      "outputs": [
        {
          "name": "stdout",
          "output_type": "stream",
          "text": [
            "Requirement already satisfied: opencv-python in /usr/local/lib/python3.10/dist-packages (4.10.0.84)\n",
            "Requirement already satisfied: numpy>=1.21.2 in /usr/local/lib/python3.10/dist-packages (from opencv-python) (1.26.4)\n"
          ]
        }
      ],
      "source": [
        "'''\n",
        "    step of image preprocessing\n",
        "    i. converts input image to grayscale\n",
        "    ii. reduces the color depth by dividing pixel values by a factor\n",
        "\n",
        "    This function helps in pre-processing image such that text extraction is efficent\n",
        "'''\n",
        "def convert_to_grayscale_and_reduce_color(image, div_factor=128):\n",
        "    if len(image.shape) == 2:\n",
        "        gray_image = image\n",
        "    else:\n",
        "        gray_image = cv2.cvtColor(image, cv2.COLOR_BGR2GRAY)\n",
        "    reduced = (gray_image / div_factor).astype(np.uint8)\n",
        "    return reduced"
      ]
    },
    {
      "cell_type": "markdown",
      "metadata": {
        "id": "u0L4G8zfLV7A"
      },
      "source": [
        "The functions extract_weights, extract_volts, extract_volume, extract_dimensions, extract_watts, extract_max_weights help in extracting the required entities from the text extracted from the given images.\n",
        "This was done using regex to match the units of required entity."
      ]
    },
    {
      "cell_type": "code",
      "execution_count": null,
      "metadata": {
        "id": "1DFD2Xs0q8e9"
      },
      "outputs": [],
      "source": [
        "def extract_weights(text):\n",
        "    value = None\n",
        "    unit = None\n",
        "    if \"pounds\" in text.lower():\n",
        "        match = re.search(r'(\\d+\\.?\\d*)\\s*pounds', text.lower())\n",
        "        if match:\n",
        "            value = float(match.group(1))\n",
        "            unit = \"pound\"\n",
        "    elif \"lbs\" in text.lower():\n",
        "        match = re.search(r'(\\d+\\.?\\d*)\\s*lbs', text.lower())\n",
        "        if match:\n",
        "            value = float(match.group(1))\n",
        "            unit = \"pound\"\n",
        "    elif \"kg\" in text.lower():\n",
        "        match = re.search(r'(\\d+\\.?\\d*)\\s*kg', text.lower())\n",
        "        if match:\n",
        "            value = float(match.group(1))\n",
        "            unit = \"kilogram\"\n",
        "    elif \"ounce\" in text.lower():\n",
        "        match = re.search(r'(\\d+\\.?\\d*)\\s*ounce', text.lower())\n",
        "        if match:\n",
        "            value = float(match.group(1))\n",
        "            unit = \"ounce\"\n",
        "    elif \"grams\" in text.lower():\n",
        "        match = re.search(r'(\\d+\\.?\\d*)\\s*grams', text.lower())\n",
        "        if match:\n",
        "            value = float(match.group(1))\n",
        "            unit = \"gram\"\n",
        "    elif \"g\" in text.lower():\n",
        "        match = re.search(r'(\\d+\\.?\\d*)\\s*g', text.lower())\n",
        "        if match:\n",
        "            value = float(match.group(1))\n",
        "            unit = \"gram\"\n",
        "    if value is not None and unit is not None:\n",
        "        return \"{value} {unit}\".format(value=value, unit=unit)\n",
        "    else:\n",
        "        return None"
      ]
    },
    {
      "cell_type": "code",
      "execution_count": null,
      "metadata": {
        "id": "WDcIwwnIq-Sx"
      },
      "outputs": [],
      "source": [
        "def extract_volts(text):\n",
        "    pattern = r'\\b(\\d+(?:\\.\\d+)?)(kV|V|v|volts|Volts)\\b'\n",
        "    matches = re.findall(pattern, text)\n",
        "    converted = ''\n",
        "    for value, unit in matches:\n",
        "        if unit == 'kV':\n",
        "            converted = value + ' kilovolt'\n",
        "            break\n",
        "        elif unit.lower() == 'v':\n",
        "            converted = value + ' volt'\n",
        "            break\n",
        "        else:\n",
        "            converted = value + ' volt'\n",
        "            break\n",
        "    return converted"
      ]
    },
    {
      "cell_type": "code",
      "execution_count": null,
      "metadata": {
        "id": "hxpXs3xbq_ba"
      },
      "outputs": [],
      "source": [
        "def extract_watts(text):\n",
        "    pattern = r'\\b(\\d+(?:\\.\\d+)?)(kW|W)\\b'\n",
        "    matches = re.findall(pattern, text)\n",
        "    converted = ''\n",
        "    for value, unit in matches:\n",
        "        if unit == 'kW':\n",
        "            converted= value + ' kilowatt'\n",
        "            break\n",
        "        else:\n",
        "            converted= value + ' watt'\n",
        "            break\n",
        "    return converted"
      ]
    },
    {
      "cell_type": "code",
      "execution_count": null,
      "metadata": {
        "id": "3CVGWE-GrZi2"
      },
      "outputs": [],
      "source": [
        "def extract_dimensions(text):\n",
        "    pattern = r'\\b(\\d+(?:\\.\\d+)?)\\s*(cm|centimetre|mm|millimetre|m|metre|inch|inches|\\'|\\\"|ft|fts|foot|feet|yard|yards|cm |centimetre |mm |millimetre |m |metre |inch |inches |\\' |\\\" |ft |fts |foot |feet |yard |yards )\\b'\n",
        "    matches = re.findall(pattern, text)\n",
        "    dimensions = []\n",
        "    for value, unit in matches:\n",
        "        if \"cm\" in unit or \"centimetre\" in unit:\n",
        "            dimensions.append(f'{value} centimetre')\n",
        "        elif \"mm\" in unit or \"millimetre\" in unit:\n",
        "            dimensions.append(f'{value} millimetre')\n",
        "        elif \"m\" in unit or \"metre\" in unit:\n",
        "            dimensions.append(f'{value} metre')\n",
        "        elif \"inch\" in unit or \"inches\" in unit or '\"' in unit:\n",
        "            dimensions.append(f'{value} inch')\n",
        "        elif \"foot\" in unit or \"feet\" in unit or \"ft\" in unit or \"fts\" in unit:\n",
        "            dimensions.append(f'{value} feet')\n",
        "        elif \"yard\" in unit or \"yards\" in unit:\n",
        "            dimensions.append(f'{value} yard')\n",
        "    if(dimensions):\n",
        "      return dimensions[0]\n",
        "    else:\n",
        "      return None"
      ]
    },
    {
      "cell_type": "code",
      "execution_count": null,
      "metadata": {
        "id": "OuCE6wRSrbBs"
      },
      "outputs": [],
      "source": [
        "import re\n",
        "def extract_volume(text):\n",
        "    text=text.lower()\n",
        "    pattern = r'\\b(\\d+(?:\\.\\d+)?)(\\s*(?:cubic foot|cubic feet|cu ft|cu\\.ft|microlitre|µl|ml|millilitre|milliliter|l|litre|liter|cl|centilitre|centiliter|dl|decilitre|deciliter|cup|cups|fl oz|fluid ounce|pint|pints|qt|quart|quarts|gal|gallon|gallons|imperial gallon|in³|cubic inch|cubic inches|inch³|inch3|inches³|inches3))\\b'\n",
        "    matches = re.findall(pattern, text)\n",
        "    volumes = []\n",
        "    for value, unit in matches:\n",
        "        if \"microlitre\" in unit or \"µl\" in unit:\n",
        "            volumes.append(f'{value} microlitre')\n",
        "            break\n",
        "        elif \"ml\" in unit or \"millilitre\" in unit or \"milliliter\" in unit:\n",
        "            volumes.append(f'{value} millilitre')\n",
        "            break\n",
        "        elif \"l\" in unit or \"litre\" in unit or \"liter\" in unit:\n",
        "            volumes.append(f'{value} litre')\n",
        "            break\n",
        "        elif \"cl\" in unit or \"centilitre\" in unit or \"centiliter\" in unit:\n",
        "            volumes.append(f'{value} centilitre')\n",
        "            break\n",
        "        elif \"dl\" in unit or \"decilitre\" in unit or \"deciliter\" in unit:\n",
        "            volumes.append(f'{value} decilitre')\n",
        "            break\n",
        "        elif \"cup\" in unit or \"cups\" in unit:\n",
        "            volumes.append(f'{value} cup')\n",
        "            break\n",
        "        elif \"fl oz\" in unit or \"fluid ounce\" in unit:\n",
        "            volumes.append(f'{value} fluid ounce')\n",
        "            break\n",
        "        elif \"pint\" in unit or \"pints\" in unit:\n",
        "            volumes.append(f'{value} pint')\n",
        "            break\n",
        "        elif \"qt\" in unit or \"quart\" in unit or \"quarts\" in unit:\n",
        "            volumes.append(f'{value} quart')\n",
        "            break\n",
        "        elif \"gal\" in unit or \"gallon\" in unit or \"gallons\" in unit or \"imperial gallon\" in unit:\n",
        "            volumes.append(f'{value} gallon')\n",
        "            break\n",
        "        elif \"cubic foot\" in unit or \"cubic feet\" in unit or \"cu ft\" in unit or \"cu.ft\" in unit:\n",
        "            volumes.append(f'{value} cubic feet')\n",
        "            break\n",
        "        elif \"cubic inch\" in unit or \"cubic inches\" in unit or \"in³\" in unit or \"inch³\" in unit or \"inches³\" in unit or \"inch3\" in unit or \"inches3\" in unit:\n",
        "            volumes.append(f'{value} cubic inche')\n",
        "            break\n",
        "    if volumes:\n",
        "      return volumes[0]\n",
        "    else:\n",
        "      return None"
      ]
    },
    {
      "cell_type": "code",
      "execution_count": null,
      "metadata": {
        "id": "-AgOkJK7rA-o"
      },
      "outputs": [],
      "source": [
        "'''\n",
        "    The function standardizes all the units to grams for easier comparison and returns the maximum weight found in it's original units.\n",
        "'''\n",
        "CONVERSION_FACTORS = {\n",
        "    \"milligram\": 1e-3,\n",
        "    \"microgram\": 1e-6,\n",
        "    \"gram\": 1,\n",
        "    \"kilogram\": 1e3,\n",
        "    \"ounce\": 28.3495,\n",
        "    \"ton\": 1e6,\n",
        "    \"pound\": 453.592\n",
        "}\n",
        "\n",
        "def clean_text(text):\n",
        "    cleaned_text = re.sub(r\"[^\\w\\s]\", \"\", text)\n",
        "    return cleaned_text\n",
        "\n",
        "def extract_max_weights(text):\n",
        "    text = clean_text(text)\n",
        "    text=text.lower()\n",
        "    pattern = r'(\\d+(?:\\.\\d+)?)\\s?(milligrams?|mgs?|micrograms?|grams?|gr|g|kilograms?|kgs?|kg|ounces?|oz|tons?|pounds?|lbs?|ibs?|LBS?|Lbs?|ib?|lb?)'\n",
        "    weight_dict = {}\n",
        "    matches = list(re.finditer(pattern, text))\n",
        "    for match in matches:\n",
        "        value, unit = match.groups()\n",
        "        value = float(value)\n",
        "        unit = unit.lower()\n",
        "        if unit in [\"milligram\", \"milligrams\", \"mg\", \"mgs\"]:\n",
        "            unit = \"milligram\"\n",
        "        elif unit in [\"microgram\", \"micrograms\"]:\n",
        "            unit = \"microgram\"\n",
        "        elif unit in [\"gram\", \"grams\", \"gr\", \"g\"]:\n",
        "            unit = \"gram\"\n",
        "        elif unit in [\"kilogram\", \"kilograms\", \"kg\", \"kgs\",\"k\"]:\n",
        "            unit = \"kilogram\"\n",
        "        elif unit in [\"ounce\", \"ounces\", \"oz\"]:\n",
        "            unit = \"ounce\"\n",
        "        elif unit in [\"ton\", \"tons\"]:\n",
        "            unit = \"ton\"\n",
        "        elif unit in [\"pound\", \"pounds\", \"lb\", \"lbs\", \"ibs\", \"Ibs\", \"LBS\",\"ib\",\"lb\",\"i\",\"l\"]:\n",
        "            unit = \"pound\"\n",
        "        weight_in_grams = value * CONVERSION_FACTORS[unit]\n",
        "        weight_dict[f\"{value} {unit}\"] = weight_in_grams\n",
        "    sorted_weights = sorted(weight_dict.items(), key=lambda x: x[1], reverse=True)\n",
        "    max_weight = sorted_weights[0][0] if sorted_weights else None\n",
        "    return max_weight\n"
      ]
    },
    {
      "cell_type": "code",
      "execution_count": null,
      "metadata": {
        "id": "4tBzfy-5MNrS"
      },
      "outputs": [],
      "source": [
        "'''\n",
        "  This function helps is retriving the image from the link provided in the dataset.\n",
        "  The image is then converted to numpy array.\n",
        "'''\n",
        "def get_image(image_link):\n",
        "    response = requests.get(image_link)\n",
        "    image = Image.open(BytesIO(response.content))\n",
        "    image_np = np.array(image)\n",
        "\n",
        "    return image_np"
      ]
    },
    {
      "cell_type": "code",
      "execution_count": null,
      "metadata": {
        "id": "BkmYL_0grdol"
      },
      "outputs": [],
      "source": [
        "'''\n",
        "  Pre-processing of image is done by converting to grayscale,reducing color and sharpening.\n",
        "  Perfroms optical character recognition using EasyOCR library.\n",
        "  Calls the appropriate function to extract the required entities.\n",
        "'''\n",
        "\n",
        "def extract(typee, image_link):\n",
        "    image_np=get_image(image_link)\n",
        "    if image_np.ndim == 3 and image_np.shape[2] == 4:\n",
        "        image_np = cv2.cvtColor(image_np, cv2.COLOR_RGBA2RGB)\n",
        "\n",
        "    reduced=convert_to_grayscale_and_reduce_color(image_np)\n",
        "    kernel = np.array([[0, -1, 0], [-1, 5,-1], [0, -1, 0]])\n",
        "    sharpened_img = cv2.filter2D(reduced, -1, kernel)\n",
        "\n",
        "    _, binary_img = cv2.threshold(reduced, 128, 255, cv2.THRESH_BINARY)\n",
        "    result = reader.readtext(image_np,paragraph=True)\n",
        "    t=\"\"\n",
        "    for i in result:\n",
        "      t+=i[1] + \" \"\n",
        "    match typee:\n",
        "      case \"wattage\":\n",
        "        return extract_watts(t)\n",
        "      case \"item_weight\":\n",
        "        return extract_weights(t)\n",
        "      case \"voltage\":\n",
        "        return extract_volts(t)\n",
        "      case \"maximum_weight_recommendation\":\n",
        "        return extract_max_weights(t)\n",
        "      case \"depth\"|\"width\"|\"height\":\n",
        "        return extract_dimensions(t)\n",
        "      case \"item_volume\":\n",
        "        return extract_volume(t)\n",
        "\n"
      ]
    },
    {
      "cell_type": "code",
      "execution_count": null,
      "metadata": {
        "collapsed": true,
        "id": "rITOoZXTsn1I"
      },
      "outputs": [],
      "source": [
        "'''\n",
        "  test.csv is loaded into a dataframe using pandas\n",
        "'''\n",
        "import pandas as pd\n",
        "df = pd.read_csv('/content/test.csv')"
      ]
    },
    {
      "cell_type": "code",
      "execution_count": null,
      "metadata": {
        "colab": {
          "base_uri": "https://localhost:8080/"
        },
        "id": "ZhEfL_ybriuF",
        "outputId": "c4aa93bf-d2e0-4d67-9094-68b269058376"
      },
      "outputs": [
        {
          "name": "stderr",
          "output_type": "stream",
          "text": [
            "WARNING:easyocr.easyocr:Downloading detection model, please wait. This may take several minutes depending upon your network connection.\n"
          ]
        },
        {
          "name": "stdout",
          "output_type": "stream",
          "text": [
            "Progress: |██████████████████████████████████████████████████| 100.0% Complete"
          ]
        },
        {
          "name": "stderr",
          "output_type": "stream",
          "text": [
            "WARNING:easyocr.easyocr:Downloading recognition model, please wait. This may take several minutes depending upon your network connection.\n"
          ]
        },
        {
          "name": "stdout",
          "output_type": "stream",
          "text": [
            "Progress: |██████████████████████████████████████████████████| 100.0% Complete"
          ]
        },
        {
          "name": "stderr",
          "output_type": "stream",
          "text": [
            "/usr/local/lib/python3.10/dist-packages/easyocr/detection.py:85: FutureWarning: You are using `torch.load` with `weights_only=False` (the current default value), which uses the default pickle module implicitly. It is possible to construct malicious pickle data which will execute arbitrary code during unpickling (See https://github.com/pytorch/pytorch/blob/main/SECURITY.md#untrusted-models for more details). In a future release, the default value for `weights_only` will be flipped to `True`. This limits the functions that could be executed during unpickling. Arbitrary objects will no longer be allowed to be loaded via this mode unless they are explicitly allowlisted by the user via `torch.serialization.add_safe_globals`. We recommend you start setting `weights_only=True` for any use case where you don't have full control of the loaded file. Please open an issue on GitHub for any issues related to this experimental feature.\n",
            "  net.load_state_dict(copyStateDict(torch.load(trained_model, map_location=device)))\n",
            "/usr/local/lib/python3.10/dist-packages/easyocr/recognition.py:182: FutureWarning: You are using `torch.load` with `weights_only=False` (the current default value), which uses the default pickle module implicitly. It is possible to construct malicious pickle data which will execute arbitrary code during unpickling (See https://github.com/pytorch/pytorch/blob/main/SECURITY.md#untrusted-models for more details). In a future release, the default value for `weights_only` will be flipped to `True`. This limits the functions that could be executed during unpickling. Arbitrary objects will no longer be allowed to be loaded via this mode unless they are explicitly allowlisted by the user via `torch.serialization.add_safe_globals`. We recommend you start setting `weights_only=True` for any use case where you don't have full control of the loaded file. Please open an issue on GitHub for any issues related to this experimental feature.\n",
            "  model.load_state_dict(torch.load(model_path, map_location=device))\n"
          ]
        }
      ],
      "source": [
        "reader = easyocr.Reader(['en'])"
      ]
    },
    {
      "cell_type": "code",
      "execution_count": null,
      "metadata": {
        "id": "EVXD8tscrlAc"
      },
      "outputs": [],
      "source": [
        "'''\n",
        "  from the dataframe the entity_type, index are queried and the function \"extract\" is called\n",
        "'''\n",
        "rows = []\n",
        "from tqdm import tqdm\n",
        "for i in tqdm(range(df.shape[0])):\n",
        "  typee = (df.iloc[i,3])\n",
        "  value=extract(typee,df.iloc[i,1])\n",
        "  idx=df.iloc[i,0]\n",
        "  rows.append({'index': idx, 'prediction': value if value is not None else ''})"
      ]
    },
    {
      "cell_type": "code",
      "execution_count": null,
      "metadata": {
        "id": "SADsTg6nrpS4"
      },
      "outputs": [],
      "source": [
        "new_df = pd.DataFrame(rows)"
      ]
    },
    {
      "cell_type": "code",
      "execution_count": null,
      "metadata": {
        "colab": {
          "base_uri": "https://localhost:8080/"
        },
        "id": "SP-UK9uDNOZm",
        "outputId": "41d7d22d-4ca9-4d77-9c9f-b5a333e3bd60"
      },
      "outputs": [
        {
          "name": "stdout",
          "output_type": "stream",
          "text": [
            "Mounted at /drive/\n"
          ]
        }
      ],
      "source": [
        "#connection is established to drive and the dataframe generated is converted to csv file and stored on the drive.\n",
        "from google.colab import drive\n",
        "drive.mount('/drive/')"
      ]
    },
    {
      "cell_type": "code",
      "execution_count": null,
      "metadata": {
        "id": "d9f8q9xeOKWm"
      },
      "outputs": [],
      "source": [
        "new_df.to_csv('/drive/My Drive/output.csv', index=False)"
      ]
    }
  ],
  "metadata": {
    "accelerator": "GPU",
    "colab": {
      "gpuType": "T4",
      "provenance": []
    },
    "kernelspec": {
      "display_name": "Python 3",
      "name": "python3"
    },
    "language_info": {
      "name": "python"
    }
  },
  "nbformat": 4,
  "nbformat_minor": 0
}
